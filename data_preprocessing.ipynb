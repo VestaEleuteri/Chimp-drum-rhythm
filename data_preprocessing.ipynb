{
 "cells": [
  {
   "cell_type": "markdown",
   "metadata": {},
   "source": [
    "# Drumming chimps: Calculating metrics"
   ]
  },
  {
   "cell_type": "markdown",
   "metadata": {},
   "source": [
    "## Preliminaries\n"
   ]
  },
  {
   "cell_type": "code",
   "execution_count": 19,
   "metadata": {},
   "outputs": [],
   "source": [
    "import thebeat\n",
    "import numpy as np\n",
    "import pandas as pd\n",
    "import os\n",
    "from sklearn.cluster import KMeans\n",
    "from sklearn.metrics import silhouette_score"
   ]
  },
  {
   "cell_type": "markdown",
   "metadata": {},
   "source": [
    "### Cleaning\n"
   ]
  },
  {
   "cell_type": "markdown",
   "metadata": {},
   "source": [
    "### Melt etc."
   ]
  },
  {
   "cell_type": "code",
   "execution_count": 20,
   "metadata": {},
   "outputs": [],
   "source": [
    "df_orig = pd.read_csv(os.path.join(\"dataframes\", \"drumming_raw.csv\"))\n",
    "id_vars = [col for col in df_orig.columns if not \"Interbeat\" in col]\n",
    "df_molten = pd.melt(df_orig, value_vars=[f\"Interbeat {i}\" for i in range(1, 27)], id_vars=id_vars)\n",
    "df_molten.rename({'variable': 'IBI_i', 'value': 'IBI'}, axis=1, inplace=True)\n",
    "df_molten.IBI_i = df_molten.IBI_i.str.replace(\"Interbeat \", \"\").astype(int)\n",
    "df_molten.Drumming_bout = df_molten.Drumming_bout.astype(int)\n",
    "df_molten = df_molten.sort_values(by=['Drumming_bout'])\n",
    "# remove all nan IBI\n",
    "df_molten = df_molten[~df_molten.IBI.isna()]\n",
    "df_molten['IBI_ms'] = df_molten.IBI * 1000\n",
    "df_molten = df_molten.reset_index(drop=True)"
   ]
  },
  {
   "cell_type": "code",
   "execution_count": 21,
   "metadata": {},
   "outputs": [],
   "source": [
    "# Add a column with combined Population and Community\n",
    "df_molten['Pop_com_code'] = df_molten.Population + \" (\" + df_molten.Community + \")\"\n",
    "# Add a column with combined Community and Individual\n",
    "df_molten['Com_indiv_code'] = df_molten.Community + \" (\" + df_molten.Individual + \")\""
   ]
  },
  {
   "cell_type": "markdown",
   "metadata": {},
   "source": [
    "### Data cleaning\n"
   ]
  },
  {
   "cell_type": "code",
   "execution_count": 22,
   "metadata": {},
   "outputs": [],
   "source": [
    "# Copy df\n",
    "df = df_molten.copy()\n",
    "\n",
    "# Use only resting and traveling and remove Mitumba community\n",
    "df = df[(df.N_beats > 1) & (df.Context.isin([\"Traveling\", \"Resting\"])) & (df.Community != \"Mitumba\")]\n",
    "\n",
    "# also remove unknowns\n",
    "df = df[(df.Individual != \"Unk\")]\n",
    "\n",
    "# and unsure individuals\n",
    "df = df[~df.Individual.str.endswith(\"?\")]\n",
    "\n",
    "# make variable for com+indiv, because there are multiple individuals in different communities with the same name\n",
    "df[\"Com_indiv\"] = df.Community + \"_\" + df.Individual\n",
    "\n",
    "# Remove bouts with fewer than three beats\n",
    "df = df[df.N_beats > 2]\n",
    "\n",
    "# Remove individuals with fewer than 9 IBIs (for being able to calculate entropy)\n",
    "fewer_than_nine_ibis = df.groupby(\"Com_indiv\").IBI.nunique() < 9\n",
    "fewer_than_nine_ibis = fewer_than_nine_ibis[fewer_than_nine_ibis].index\n",
    "df = df[~df.Com_indiv.isin(fewer_than_nine_ibis)]\n",
    "\n",
    "# Remove individuals with fewer than 3 bouts\n",
    "fewer_than_three_bouts = df.groupby(\"Com_indiv\").Drumming_bout.nunique() < 3\n",
    "fewer_than_three_bouts = fewer_than_three_bouts[fewer_than_three_bouts].index\n",
    "df = df[~df.Com_indiv.isin(fewer_than_three_bouts)]"
   ]
  },
  {
   "cell_type": "markdown",
   "metadata": {},
   "source": [
    "## Calculate metrics"
   ]
  },
  {
   "cell_type": "markdown",
   "metadata": {},
   "source": [
    "### CV & nPVI"
   ]
  },
  {
   "cell_type": "code",
   "execution_count": 23,
   "metadata": {},
   "outputs": [],
   "source": [
    "for bout, bout_df in df.groupby('Drumming_bout'):\n",
    "    iois = bout_df['IBI_ms'].values\n",
    "    seq = thebeat.Sequence(iois)\n",
    "    npvi = thebeat.stats.get_npvi(seq)\n",
    "    cov = thebeat.stats.get_cov(seq)\n",
    "    df.loc[df.Drumming_bout == bout, 'Bout_cv'] = cov\n",
    "    df.loc[df.Drumming_bout == bout, 'Bout_npvi'] = npvi"
   ]
  },
  {
   "cell_type": "markdown",
   "metadata": {},
   "source": [
    "### Entropy"
   ]
  },
  {
   "cell_type": "code",
   "execution_count": 24,
   "metadata": {},
   "outputs": [],
   "source": [
    "for indiv, indiv_df in df.groupby(\"Com_indiv\"):\n",
    "    # Get indiidivdual's IBIs, reshape for clustering\n",
    "    all_ibis = indiv_df.IBI.values.reshape(-1, 1)\n",
    "    # Keep track of individual's silhouette scores (higher is better)\n",
    "    sil_scores = {}\n",
    "    # try k=2 and k=3\n",
    "    for k in (2, 3):\n",
    "        clustering = KMeans(n_clusters=k, n_init=100)\n",
    "        clustering.fit(all_ibis)\n",
    "        sil_scores[k] = silhouette_score(all_ibis, clustering.labels_)\n",
    "    # choose the best fit\n",
    "    best_k = max(sil_scores, key=sil_scores.get)\n",
    "    clustering = KMeans(n_clusters=best_k, n_init=100).fit(all_ibis)\n",
    "    if best_k == 2:\n",
    "        labels = pd.Series(clustering.labels_.astype(str)).replace({\"0\": \"short\", \"1\": \"long\"})\n",
    "    else:\n",
    "        labels = pd.Series(clustering.labels_.astype(str)).replace({\"0\": \"short\", \"1\": \"medium\", \"2\": \"long\"})\n",
    "\n",
    "    df.loc[df.Com_indiv == indiv, \"IBI_cluster\"] = labels.values\n",
    "\n",
    "for bout, bout_df in df.groupby(\"Drumming_bout\"):\n",
    "    # get frequencies of each IBI cluster\n",
    "    clustered_lengths = bout_df.IBI_cluster.to_list()\n",
    "    pk = [clustered_lengths.count(length) / len(clustered_lengths) for length in clustered_lengths]\n",
    "    entropy = np.abs(-np.sum(pk * np.log2(pk)))\n",
    "    df.loc[df.Drumming_bout == bout, \"Bout_entropy\"] = entropy"
   ]
  },
  {
   "cell_type": "markdown",
   "metadata": {},
   "source": [
    "## Exports"
   ]
  },
  {
   "cell_type": "markdown",
   "metadata": {},
   "source": [
    "### Long format"
   ]
  },
  {
   "cell_type": "code",
   "execution_count": 25,
   "metadata": {},
   "outputs": [],
   "source": [
    "# Sort DataFrame\n",
    "df = df.sort_values(by=[\"Drumming_bout\", \"IBI_i\"]).reset_index(drop=True)\n",
    "\n",
    "# Save dataframes\n",
    "df.to_csv(os.path.join(\"dataframes\", \"drumming_long.csv\"), index=False)"
   ]
  },
  {
   "cell_type": "markdown",
   "metadata": {},
   "source": [
    "### Export wide-format DataFrame for pDFA"
   ]
  },
  {
   "cell_type": "code",
   "execution_count": 26,
   "metadata": {},
   "outputs": [],
   "source": [
    "df_unmolten = df.copy()\n",
    "df_unmolten = df_unmolten.drop(\n",
    "    columns=[\n",
    "        \"IBI_i\",\n",
    "        \"IBI\",\n",
    "        \"IBI_ms\",\n",
    "        \"IBI_cluster\",\n",
    "        \"Summed_Total_bout_duration_val\",\n",
    "        \"Check_Matching_Total_bout_duration\",\n",
    "    ]\n",
    ").drop_duplicates()\n",
    "\n",
    "new_column_order = ['Drumming_bout', 'Subspecies', 'Population', 'Community', 'Individual', 'Pop_com_code', 'Com_indiv_code',\n",
    "       'Date', 'File_Name', 'With_Ph', 'Start_Ph',\n",
    "       'End_Ph', 'Start_Ph_N', 'End_Ph_N', 'Note_Ph', 'Context_Before',\n",
    "       'Context_After', 'Context', 'Tree_Species', 'DBH', 'Com_indiv', 'Total_bout_duration',\n",
    "       'Summed_Total_bout_duration', 'N_beats',\n",
    "       'Bout_cv', 'Bout_npvi', 'Bout_entropy']\n",
    "\n",
    "df_unmolten = df_unmolten[new_column_order]\n",
    "\n",
    "n_interbeat_columns = df.N_beats.max()\n",
    "for i in range(1, n_interbeat_columns + 1):\n",
    "    df_unmolten[f\"Interbeat {i}\"] = np.nan\n",
    "\n",
    "for bout, bout_df in df.groupby(\"Drumming_bout\"):\n",
    "    for i in range(1, len(bout_df) + 1):\n",
    "        df_unmolten.loc[df_unmolten.Drumming_bout == bout, f\"Interbeat {i}\"] = bout_df.IBI.values[\n",
    "            i - 1\n",
    "        ]\n",
    "\n",
    "df_unmolten.to_csv(os.path.join(\"dataframes\", \"drumming_wide.csv\"), index=False)"
   ]
  },
  {
   "cell_type": "markdown",
   "metadata": {},
   "source": [
    "### Ratios DataFrame"
   ]
  },
  {
   "cell_type": "code",
   "execution_count": 27,
   "metadata": {},
   "outputs": [],
   "source": [
    "## Interval ratios\n",
    "ratios_df = pd.DataFrame(columns=['Population', 'Community', 'Individual', 'Individual_hidden', 'Pop_com_code', 'Com_indiv_code', 'Drumming_bout', 'Ratio_i', 'Ratio'])\n",
    "\n",
    "for bout, bout_df in df.groupby('Drumming_bout'):\n",
    "    ratios = thebeat.Sequence(bout_df['IBI_ms'].values).interval_ratios_from_dyads\n",
    "    if len(ratios) < 1:\n",
    "        continue\n",
    "    bout_dict = {\n",
    "        'Subspecies': bout_df.Subspecies.unique()[0],\n",
    "        'Population': bout_df.Population.unique()[0],\n",
    "        'Community': bout_df.Community.unique()[0],\n",
    "        'Individual': bout_df.Individual.unique()[0],\n",
    "        'Pop_com_code': bout_df.Pop_com_code.unique()[0],\n",
    "        'Com_indiv_code': bout_df.Com_indiv_code.unique()[0],\n",
    "        'Drumming_bout': bout,\n",
    "        'Ratio_i': list(range(1, len(ratios) + 1)),\n",
    "        'Ratio': ratios\n",
    "    }\n",
    "\n",
    "    ratios_df = pd.concat([ratios_df, pd.DataFrame(bout_dict)])\n",
    "\n",
    "ratios_df.to_csv(os.path.join(\"dataframes\", \"drumming_ratios.csv\"), index=False)"
   ]
  }
 ],
 "metadata": {
  "kernelspec": {
   "display_name": "venv",
   "language": "python",
   "name": "python3"
  },
  "language_info": {
   "codemirror_mode": {
    "name": "ipython",
    "version": 3
   },
   "file_extension": ".py",
   "mimetype": "text/x-python",
   "name": "python",
   "nbconvert_exporter": "python",
   "pygments_lexer": "ipython3",
   "version": "3.11.7"
  },
  "orig_nbformat": 4
 },
 "nbformat": 4,
 "nbformat_minor": 2
}
